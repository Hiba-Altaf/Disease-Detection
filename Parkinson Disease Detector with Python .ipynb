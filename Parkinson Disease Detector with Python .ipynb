{
 "cells": [
  {
   "cell_type": "code",
   "execution_count": null,
   "metadata": {},
   "outputs": [],
   "source": [
    "# Import all the needed data \n",
    "import numpy as np \n",
    "import pandas as pd \n",
    "import os, sys \n",
    "from sklearn.preprocessing import MinMaxScaler \n",
    "from xgboost import XGBClassafier \n",
    "from sklearn.model_selection import train_test_split \n",
    "from sklearn.metrics import accuracy_score \n",
    "\n",
    "#Read the data from the dataset into the program \n",
    "dataframe = pd.read_csv(\"path to the file\")\n",
    "dataframe.head()\n",
    "\n",
    "#get all the features and labels form the dataset \n",
    "feat = dataframe.loc[:,dataframe.columns!= 'status'].values[:,1:]\n",
    "label = dataframe.loc[:,'status'].values\n",
    "print(labels[labels==1].shape[0],labels[labels==0].shape[0])\n",
    "\n",
    "#Initalize the MinMaxScaler to scale the features between -1 to 1 \n",
    "scale = MinMaxScaler((-1,1))\n",
    "x = scaler.fit_transform(features)\n",
    "y = label\n",
    "\n",
    "#Split the dataset into training and testing \n",
    "x_train, x_test, y_train, y_test = train_test_split(x,y,test_size = 0.2 , random_state = 7)\n",
    "\n",
    "#Train the model by initalizing the XGBClassafier \n",
    "train_model = XGBClassafier()\n",
    "train_model.fit(x_train, y_train)\n",
    "\n",
    "#generate the predicted values for the test and calculate the accuracy of the model \n",
    "y_pred = train_model.predict(x_test)\n",
    "print(accuracy(y_test, y_pred)*100)"
   ]
  }
 ],
 "metadata": {
  "kernelspec": {
   "display_name": "Python 3",
   "language": "python",
   "name": "python3"
  },
  "language_info": {
   "codemirror_mode": {
    "name": "ipython",
    "version": 3
   },
   "file_extension": ".py",
   "mimetype": "text/x-python",
   "name": "python",
   "nbconvert_exporter": "python",
   "pygments_lexer": "ipython3",
   "version": "3.7.3"
  }
 },
 "nbformat": 4,
 "nbformat_minor": 2
}
