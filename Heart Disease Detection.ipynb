{
 "cells": [
  {
   "cell_type": "code",
   "execution_count": null,
   "metadata": {},
   "outputs": [],
   "source": [
    "# Importing all Libraries\n",
    "import numpy as np\n",
    "import pandas as pd\n",
    "import matplotlib.pyplot as plt\n",
    "import seaborn as sns\n",
    "from sklearn.model_selection import train_test_split\n",
    "from sklearn.metrics import accuracy_score\n",
    "from sklearn.linear_model import LogisticRegression\n",
    "from sklearn.ensemble import RandomForestClassifier\n",
    "from sklearn.neighbors import KNeighborsClassifier\n",
    "\n",
    "%matplotlib inline\n",
    "\n",
    "import os\n",
    "print(os.listdir())\n",
    "\n",
    "import warnings\n",
    "warnings.filterwarnings('ignore')"
   ]
  },
  {
   "cell_type": "code",
   "execution_count": null,
   "metadata": {},
   "outputs": [],
   "source": [
    "dataset = pd.read_csv(\"heart.csv\")\n",
    "type(dataset)\n",
    "dataset.shape\n",
    "dataset.head(4)\n",
    "dataset.sample(4)\n",
    "dataset.describe()\n",
    "dataset.info()\n",
    "for i in range(len(info)):\n",
    "    print(dataset.columns[i]+\":\\t\\t\\t\"+info[i]\n",
    "          \n",
    "dataset[\"target\"].describe()\n",
    "dataset[\"target\"].unique()\n",
    " print(dataset.corr()[\"target\"].abs().sort_values(ascending=False))\n",
    "y = dataset[\"target\"]\n",
    "sns.countplot(y)\n",
    "target_temp = dataset.target.value_counts()\n",
    "print(target_temp) \n",
    "print(\"Percentage of patience without heart problems: \"+str(round(target_temp[0]*100/303,2)))\n",
    "print(\"Percentage of patience with heart problems: \"+str(round(target_temp[1]*100/303,2)))\n",
    "dataset[\"sex\"].unique()\n",
    "sns.barplot(dataset[\"sex\"],y)\n",
    "dataset[\"cp\"].unique()\n",
    "sns.barplot(dataset[\"cp\"],y)\n",
    "dataset[\"fbs\"].describe()\n",
    "dataset[\"fbs\"].unique()\n",
    "dataset[\"restecg\"].unique()\n",
    "sns.barplot(dataset[\"restecg\"],y)\n",
    "dataset[\"exang\"].unique()          \n",
    "sns.barplot(dataset[\"exang\"],y)\n",
    "\n",
    "#slope feature\n",
    "dataset[\"slope\"].unique()\n",
    "sns.barplot(dataset[\"slope\"],y)          "
   ]
  },
  {
   "cell_type": "code",
   "execution_count": null,
   "metadata": {},
   "outputs": [],
   "source": [
    "#Split into training and testing sets\n",
    "predictors = dataset.drop(\"target\",axis=1)\n",
    "target = dataset[\"target\"]\n",
    "X_train,X_test,Y_train,Y_test = train_test_split(predictors,target,test_size=0.20,random_state=0)\n"
   ]
  },
  {
   "cell_type": "code",
   "execution_count": null,
   "metadata": {},
   "outputs": [],
   "source": [
    "#Logistic Regression Method\n",
    "lgr = LogisticRegression()\n",
    "lgr.fit(X_train,Y_train)\n",
    "Y_pred_lgr = lgr.predict(X_test)\n",
    "score_lgr = round(accuracy_score(Y_pred_lr,Y_test)*100,2)\n",
    "print(\"The accuracy score achieved using Logistic Regression is: \"+str(score_lgr)+\" %\")"
   ]
  },
  {
   "cell_type": "code",
   "execution_count": null,
   "metadata": {},
   "outputs": [],
   "source": [
    "#Random Forest Method\n",
    "max_accuracy = 0\n",
    "\n",
    "for x in range(2000):\n",
    "    rfc = RandomForestClassifier(random_state=x)\n",
    "    rfc.fit(X_train,Y_train)\n",
    "    Y_pred_rfc = rfc.predict(X_test)\n",
    "    current_accuracy = round(accuracy_score(Y_pred_rf,Y_test)*100,2)\n",
    "    if(current_accuracy>max_accuracy):\n",
    "        max_accuracy = current_accuracy\n",
    "        best_x = x\n",
    "        \n",
    "rfc = RandomForestClassifier(random_state=best_x)\n",
    "rfc.fit(X_train,Y_train)\n",
    "Y_pred_rf = rfc.predict(X_test)\n",
    "\n",
    "score_rfc = round(accuracy_score(Y_pred_rfc,Y_test)*100,2)\n",
    "print(\"The accuracy score achieved using Decision Tree is: \"+str(score_rfc)+\" %\")"
   ]
  },
  {
   "cell_type": "code",
   "execution_count": null,
   "metadata": {},
   "outputs": [],
   "source": [
    "#KNN Method \n",
    "knn = KNeighborsClassifier(n_neighbors=7)\n",
    "knn.fit(X_train,Y_train)\n",
    "Y_pred_knn=knn.predict(X_test)\n",
    "score_knn = round(accuracy_score(Y_pred_knn,Y_test)*100,2)\n",
    "print(\"The accuracy score achieved using KNN is: \"+str(score_knn)+\" %\")"
   ]
  }
 ],
 "metadata": {
  "kernelspec": {
   "display_name": "Python 3",
   "language": "python",
   "name": "python3"
  },
  "language_info": {
   "codemirror_mode": {
    "name": "ipython",
    "version": 3
   },
   "file_extension": ".py",
   "mimetype": "text/x-python",
   "name": "python",
   "nbconvert_exporter": "python",
   "pygments_lexer": "ipython3",
   "version": "3.7.3"
  }
 },
 "nbformat": 4,
 "nbformat_minor": 2
}
