{
 "cells": [
  {
   "cell_type": "code",
   "execution_count": null,
   "metadata": {},
   "outputs": [],
   "source": [
    "# Import Libraries\n",
    "import pandas as pd\n",
    "import numpy as np\n",
    "import matplotlib.pyplot as plt\n",
    "%matplotlib inline\n",
    "import seaborn as sns\n",
    "\n",
    "#import models from scikit learn module:\n",
    "from sklearn.model_selection import train_test_split\n",
    "from sklearn import metrics\n",
    "from sklearn.svm import SVC\n",
    "\n",
    "#import Data\n",
    "df_cancer = pd.read_csv('Breast_cancer_data.csv')\n",
    "df_cancer.head()\n",
    "\n",
    "#additional information about the datset \n",
    "#get some information about our Data-Set\n",
    "df_cancer.info()\n",
    "df_cancer.describe()\n",
    "\n",
    "#Visualize the data \n",
    "sns.pairplot(df_cancer, hue = 'diagnosis')\n",
    "plt.figure(figsize=(7,7))\n",
    "sns.heatmap(df_cancer['mean_radius mean_texture mean_perimeter mean_area mean_smoothness diagnosis'.split()].corr(), annot=True)\n",
    "sns.scatterplot(x = 'mean_texture', y = 'mean_perimeter', hue = 'diagnosis', data = df_cancer)\n",
    "\n",
    "palette ={0 : 'orange', 1 : 'blue'}\n",
    "edgecolor = 'grey'\n",
    "fig = plt.figure(figsize=(12,12))\n",
    "plt.subplot(221)\n",
    "ax1 = sns.scatterplot(x = df_cancer['mean_radius'], y = df_cancer['mean_texture'], hue = \"diagnosis\",\n",
    "data = df_cancer, palette =palette, edgecolor=edgecolor)\n",
    "plt.title('mean_radius vs mean_texture')\n",
    "plt.subplot(222)\n",
    "ax2 = sns.scatterplot(x = df_cancer['mean_radius'], y = df_cancer['mean_perimeter'], hue = \"diagnosis\",\n",
    "data = df_cancer, palette =palette, edgecolor=edgecolor)\n",
    "plt.title('mean_radius vs mean_perimeter')\n",
    "plt.subplot(223)\n",
    "ax3 = sns.scatterplot(x = df_cancer['mean_radius'], y = df_cancer['mean_area'], hue = \"diagnosis\",\n",
    "data = df_cancer, palette =palette, edgecolor=edgecolor)\n",
    "plt.title('mean_radius vs mean_area')\n",
    "plt.subplot(224)\n",
    "ax4 = sns.scatterplot(x = df_cancer['mean_radius'], y = df_cancer['mean_smoothness'], hue = \"diagnosis\",\n",
    "data = df_cancer, palette =palette, edgecolor=edgecolor)\n",
    "plt.title('mean_radius vs mean_smoothness')\n",
    "fig.suptitle('Features Correlation', fontsize = 20)\n",
    "plt.savefig('2')\n",
    "plt.show()\n"
   ]
  },
  {
   "cell_type": "code",
   "execution_count": null,
   "metadata": {},
   "outputs": [],
   "source": [
    "#Handle Missing Data\n",
    "df_cancer.isnull().sum()\n",
    "df_cancer['diagnosis'].unique()\n",
    "df_cancer['diagnosis'] = df_cancer['diagnosis'].map({'benign':0,'malignant':1})\n",
    "df_cancer.head()\n",
    "sns.countplot(x='diagnosis',data = df_cancer)\n",
    "plt.title('number of Benign_0 vs Malignan_1')\n",
    "df_cancer.corr()['diagnosis'][:-1].sort_values().plot(kind ='bar')\n",
    "plt.title('Corr. between features and target')\n"
   ]
  },
  {
   "cell_type": "code",
   "execution_count": null,
   "metadata": {},
   "outputs": [],
   "source": [
    "# Split into training and testing sets\n",
    "X = df_cancer.drop(['diagnosis'],axis=1).values\n",
    "y = df_cancer['diagnosis'].values\n",
    "from sklearn.model_selection import train_test_split\n",
    "X_train, X_test, y_train, y_test = train_test_split(X, y, test_size=0.25, random_state=101)"
   ]
  },
  {
   "cell_type": "code",
   "execution_count": null,
   "metadata": {},
   "outputs": [],
   "source": [
    "#SVM \n",
    "from sklearn.svm import SVC\n",
    "svc_model = SVC()\n",
    "svc_model.fit(X_train, y_train) \n",
    "\n",
    "#Model Evaluation\n",
    "from sklearn.metrics import classification_report, confusion_matrix\n",
    "y_predict = svc_model.predict(X_test)\n",
    "cm = confusion_matrix(y_test, y_predict)\n",
    "sns.heatmap(cm, annot=True)"
   ]
  }
 ],
 "metadata": {
  "kernelspec": {
   "display_name": "Python 3",
   "language": "python",
   "name": "python3"
  },
  "language_info": {
   "codemirror_mode": {
    "name": "ipython",
    "version": 3
   },
   "file_extension": ".py",
   "mimetype": "text/x-python",
   "name": "python",
   "nbconvert_exporter": "python",
   "pygments_lexer": "ipython3",
   "version": "3.7.3"
  }
 },
 "nbformat": 4,
 "nbformat_minor": 2
}
